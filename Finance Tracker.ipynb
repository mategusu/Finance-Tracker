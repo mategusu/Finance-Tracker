{
 "cells": [
  {
   "cell_type": "markdown",
   "id": "ad3a3fe0",
   "metadata": {},
   "source": [
    "### Finance Tracker"
   ]
  },
  {
   "cell_type": "code",
   "execution_count": 5,
   "id": "f5befca8",
   "metadata": {},
   "outputs": [],
   "source": [
    "import pandas as pd"
   ]
  },
  {
   "cell_type": "code",
   "execution_count": null,
   "id": "02a6e077",
   "metadata": {},
   "outputs": [
    {
     "data": {
      "text/plain": [
       "'Budget exceeded: -2'"
      ]
     },
     "execution_count": 20,
     "metadata": {},
     "output_type": "execute_result"
    }
   ],
   "source": [
    "class FinanceTracker:\n",
    "    def __init__(self, budget):\n",
    "        self.budget = budget\n",
    "        self.transactions = pd.DataFrame(columns=[\"date\", \"category\", \"description\", \"amount\"])\n",
    "        \n",
    "    def add_transactions(self, date, category, description, amount):\n",
    "        if isinstance(amount, (int, float)):\n",
    "            self.new_transactions = pd.DataFrame({\"date\": date,\n",
    "                                   \"category\": category,\n",
    "                                   \"description\": description,\n",
    "                                   \"amount\": amount}, index=[0])\n",
    "    \n",
    "            self.transactions = pd.concat([self.transactions, self.new_transactions ], \n",
    "                                          ignore_index=True)\n",
    "            return \"Transaction added succesfully\"\n",
    "        else:\n",
    "            return \"Invalid amount.Transaction not added\"\n",
    "        \n",
    "        \n",
    "    def get_transactions(self, category=None):\n",
    "        if category:\n",
    "            return self.transactions[self.transactions[\"category\"]== category]\n",
    "        return self.transactions\n",
    "    \n",
    "    def get_total_spending(self, category=None):\n",
    "        if category:\n",
    "            return self.transactions[self.transactions[\"category\"]== category][\"amount\"].sum()\n",
    "        return self.transactions[\"amount\"].sum()\n",
    "    \n",
    "    def get_budget_balance(self):\n",
    "        balance = self.budget - self.transactions[\"amount\"].sum()\n",
    "        if balance < 0:\n",
    "            return f\"Budget exceeded: {balance}\"\n",
    "        return f\"Expenses within Budget: {balance}\"\n",
    "        \n",
    "            \n",
    "obj = FinanceTracker(20)\n",
    "obj.add_transactions(\"2024-02-02\", \"stationary\", \"Buying books\", 10)\n",
    "obj.add_transactions(\"2024-02-02\", \"stationary\", \"Buying pens\", 5)\n",
    "obj.add_transactions(\"2024-02-03\", \"groceries\",\"Bought sugar\", 2)\n",
    "obj.add_transactions(\"2024-02-03\", \"groceries\",\"Bought salt\", 5)\n",
    "\n",
    "\n",
    "obj.get_transactions(category=\"stationary\")\n",
    "obj.get_budget_balance()"
   ]
  }
 ],
 "metadata": {
  "kernelspec": {
   "display_name": "Python 3",
   "language": "python",
   "name": "python3"
  },
  "language_info": {
   "codemirror_mode": {
    "name": "ipython",
    "version": 3
   },
   "file_extension": ".py",
   "mimetype": "text/x-python",
   "name": "python",
   "nbconvert_exporter": "python",
   "pygments_lexer": "ipython3",
   "version": "3.9.6"
  }
 },
 "nbformat": 4,
 "nbformat_minor": 5
}
